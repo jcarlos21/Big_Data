{
 "cells": [
  {
   "cell_type": "markdown",
   "id": "10acc31c-e9d3-4b37-8881-b10d5ad9516d",
   "metadata": {},
   "source": [
    "EXTRAÇÃO E VALIDAÇÃO"
   ]
  },
  {
   "cell_type": "code",
   "execution_count": null,
   "id": "5ab9faf4-e54f-45e4-b5af-a061079669b1",
   "metadata": {},
   "outputs": [],
   "source": [
    "import pandas as pd\n",
    "import pandera as pa"
   ]
  },
  {
   "cell_type": "code",
   "execution_count": null,
   "id": "653bb7cb-913d-42bb-bd32-f01cd44edb1c",
   "metadata": {},
   "outputs": [],
   "source": [
    "# leitura do arquivo e conversão da coluna 'ocorrencia_dia' para o formato data\n",
    "df = pd.read_csv(\"ocorrencia.csv\", sep=\";\", parse_dates=['ocorrencia_dia'], dayfirst=True)\n",
    "# impressão\n",
    "df"
   ]
  },
  {
   "cell_type": "code",
   "execution_count": null,
   "id": "3b6e58fb-ce10-47cd-91ab-e11da3310810",
   "metadata": {},
   "outputs": [],
   "source": [
    "# Validando as colunas\n",
    "schema = pa.DataFrameSchema(\n",
    "    columns = {\n",
    "        \"codigo\": pa.Column(pa.Int, required=False),\n",
    "        \"codigo_ocorrencia\": pa.Column(pa.Int),\n",
    "        \"codigo_ocorrencia2\": pa.Column(pa.Int),\n",
    "        \"ocorrencia_classificacao\": pa.Column(pa.String),\n",
    "        \"ocorrencia_cidade\": pa.Column(pa.String),\n",
    "        \"ocorrencia_uf\": pa.Column(pa.String, pa.Check.str_length(2,2)),\n",
    "        \"ocorrencia_aerodromo\": pa.Column(pa.String),\n",
    "        \"ocorrencia_dia\": pa.Column(pa.DateTime),\n",
    "        # nullable=True permite valores nulos\n",
    "        \"ocorrencia_hora\": pa.Column(pa.String, pa.Check.str_matches(r'^([0-1]?[0-9]|[2][0-3]):([0-5][0-9])(:[0-5][0-9])?$'), nullable=True),\n",
    "        \"total_recomendacoes\": pa.Column(pa.Int)\n",
    "    }\n",
    ")"
   ]
  },
  {
   "cell_type": "code",
   "execution_count": null,
   "id": "e7036fff-546b-4d46-a1ab-04c71ee15594",
   "metadata": {},
   "outputs": [],
   "source": [
    "# imprimindo o dataframe após a validação da coluna\n",
    "schema.validate(df)"
   ]
  },
  {
   "cell_type": "code",
   "execution_count": null,
   "id": "e1f4b8b5-8ecf-4be7-a6c5-559d584fef11",
   "metadata": {},
   "outputs": [],
   "source": [
    "df.head(10)"
   ]
  },
  {
   "cell_type": "code",
   "execution_count": null,
   "id": "4d41a379-072a-4b90-bcd3-31cee3374d7a",
   "metadata": {},
   "outputs": [],
   "source": [
    "df.tail(10)"
   ]
  },
  {
   "cell_type": "code",
   "execution_count": null,
   "id": "0fbf4e7d-08fc-4d7d-b8f6-b89e2e6d1178",
   "metadata": {},
   "outputs": [],
   "source": [
    "# tipo de dados das colunas\n",
    "df.dtypes"
   ]
  },
  {
   "cell_type": "code",
   "execution_count": null,
   "id": "f7756b9d-b29e-4f16-ae8c-6f25d39821cf",
   "metadata": {},
   "outputs": [],
   "source": [
    "# coluna ocorrência_dia (extração)\n",
    "df.ocorrencia_dia"
   ]
  },
  {
   "cell_type": "code",
   "execution_count": null,
   "id": "93562740-6b5f-4b33-9c31-15436fda0345",
   "metadata": {},
   "outputs": [],
   "source": [
    "# coluna ocorrência_dia (extração do mês)\n",
    "df.ocorrencia_dia.dt.month"
   ]
  },
  {
   "cell_type": "code",
   "execution_count": null,
   "id": "996986a6-2440-46e4-a87c-3ff98e1d968c",
   "metadata": {},
   "outputs": [],
   "source": []
  }
 ],
 "metadata": {
  "kernelspec": {
   "display_name": "Python 3 (ipykernel)",
   "language": "python",
   "name": "python3"
  },
  "language_info": {
   "codemirror_mode": {
    "name": "ipython",
    "version": 3
   },
   "file_extension": ".py",
   "mimetype": "text/x-python",
   "name": "python",
   "nbconvert_exporter": "python",
   "pygments_lexer": "ipython3",
   "version": "3.10.0"
  }
 },
 "nbformat": 4,
 "nbformat_minor": 5
}
